{
 "cells": [
  {
   "cell_type": "code",
   "execution_count": 38,
   "metadata": {
    "collapsed": true
   },
   "outputs": [],
   "source": [
    "import time\n",
    "import urllib\n",
    "import urllib.request\n",
    "from urllib.request import urlopen\n",
    "import re\n",
    "from http.cookiejar import CookieJar\n",
    "import http.cookiejar\n",
    "import datetime\n",
    "import pprint"
   ]
  },
  {
   "cell_type": "code",
   "execution_count": 39,
   "metadata": {
    "collapsed": false
   },
   "outputs": [],
   "source": [
    "# IMDB The Bos\n",
    "cj = CookieJar()\n",
    "open = urllib.request.build_opener(urllib.request.HTTPCookieProcessor(cj))\n",
    "\n",
    "data = []\n",
    "def main():\n",
    "    page = 'http://www.imdb.com/title/tt2702724/reviews?start=0'\n",
    "    for i in range(0,5):\n",
    "        try:\n",
    "            sourcecode = open.open(page).read()\n",
    "\n",
    "            try:\n",
    "                comments = re.findall(b'<b>Author:</b>(.*?)</p>', sourcecode,re.S)\n",
    "                for comment in comments:\n",
    "                    data.append(comment)\n",
    "            except Exception as e:\n",
    "                print (e)\n",
    "\n",
    "        except Exception as e:\n",
    "            print(e)\n",
    "        page = \"http://www.imdb.com/title/tt2702724/reviews?start=\"+str(i+11)\n",
    "    #print(data)\n",
    "main()\n"
   ]
  },
  {
   "cell_type": "code",
   "execution_count": 40,
   "metadata": {
    "collapsed": false
   },
   "outputs": [],
   "source": [
    "# data encoding\n",
    "for i in range(0,len(data)):\n",
    "    data[i] = data[i].decode('UTF-8')"
   ]
  },
  {
   "cell_type": "code",
   "execution_count": 41,
   "metadata": {
    "collapsed": false
   },
   "outputs": [],
   "source": [
    "#data cleaning\n",
    "for i in range(0,len(data)):\n",
    "    data[i] = re.sub(r'[^\\w]', ' ', data[i])\n",
    "    data[i] = (re.sub(\"^\\d+\\s|\\s\\d+\\s|\\s\\d+$\", \" \", data[i])).lower()"
   ]
  },
  {
   "cell_type": "code",
   "execution_count": 42,
   "metadata": {
    "collapsed": false
   },
   "outputs": [],
   "source": [
    "import nltk"
   ]
  },
  {
   "cell_type": "code",
   "execution_count": 43,
   "metadata": {
    "collapsed": false
   },
   "outputs": [],
   "source": [
    "from nltk.corpus import stopwords\n",
    "from nltk.tokenize import word_tokenize\n"
   ]
  },
  {
   "cell_type": "code",
   "execution_count": 44,
   "metadata": {
    "collapsed": false
   },
   "outputs": [],
   "source": [
    "filteredData=[]\n",
    "stopWords = set(stopwords.words('english'))\n",
    "new_stopWords = set(['href','div','p','br'])\n",
    "stopWords = stopWords|new_stopWords\n",
    "\n",
    "for row in data:\n",
    "    eachWord = word_tokenize(row)\n",
    "    for i in eachWord:\n",
    "        if i not in stopWords or len(i)>1:\n",
    "            filteredData.append(i)\n",
    "\n",
    "for i in filteredData:\n",
    "    if i in new_stopWords or len(i)>1:\n",
    "        filteredData.remove(i)"
   ]
  },
  {
   "cell_type": "code",
   "execution_count": 45,
   "metadata": {
    "collapsed": false
   },
   "outputs": [],
   "source": [
    "#filteredData"
   ]
  },
  {
   "cell_type": "code",
   "execution_count": 46,
   "metadata": {
    "collapsed": false
   },
   "outputs": [],
   "source": [
    "from nltk.sentiment.vader import SentimentIntensityAnalyzer\n",
    "analyser = SentimentIntensityAnalyzer()"
   ]
  },
  {
   "cell_type": "code",
   "execution_count": 47,
   "metadata": {
    "collapsed": false
   },
   "outputs": [],
   "source": [
    "neg = []\n",
    "pos = []\n",
    "neu = []\n",
    "compo = []"
   ]
  },
  {
   "cell_type": "code",
   "execution_count": 48,
   "metadata": {
    "collapsed": true
   },
   "outputs": [],
   "source": [
    "for word in filteredData:\n",
    "    result = analyser.polarity_scores(word)\n",
    "    neg.append(result['neg'])\n",
    "    pos.append(result['pos'])\n",
    "    neu.append(result['neu'])\n",
    "    compo.append(result['compound'])"
   ]
  },
  {
   "cell_type": "code",
   "execution_count": 49,
   "metadata": {
    "collapsed": false
   },
   "outputs": [],
   "source": [
    "import numpy as np\n",
    "data=[sum(np.array(neg)), sum(np.array(pos))]"
   ]
  },
  {
   "cell_type": "code",
   "execution_count": null,
   "metadata": {
    "collapsed": false
   },
   "outputs": [],
   "source": []
  },
  {
   "cell_type": "code",
   "execution_count": 50,
   "metadata": {
    "collapsed": true
   },
   "outputs": [],
   "source": [
    "import matplotlib.pyplot as plt"
   ]
  },
  {
   "cell_type": "code",
   "execution_count": 51,
   "metadata": {
    "collapsed": false
   },
   "outputs": [],
   "source": [
    "\n",
    "#ax = fig.add_subplot(111)\n",
    "y=len(data)\n",
    "x = np.arange(y)\n",
    "\n",
    "#fig, ax = plt.subplots()\n",
    "#plt.bar(x, data, width=1, color=\"red\", align='center')\n",
    "#plt.xticks(range(2), ('Negative', 'Positive') )\n",
    "\n",
    "#plt.show()"
   ]
  },
  {
   "cell_type": "code",
   "execution_count": 52,
   "metadata": {
    "collapsed": false
   },
   "outputs": [
    {
     "name": "stdout",
     "output_type": "stream",
     "text": [
      "local variable 'page' referenced before assignment\n"
     ]
    }
   ],
   "source": [
    "cj1 = CookieJar()\n",
    "open = urllib.request.build_opener(urllib.request.HTTPCookieProcessor(cj1))\n",
    "page = 'http://www.rottentomatoes.com/m/the_boss_2016/reviews/?type=user'\n",
    "data1 = []\n",
    "def main():\n",
    "    for i in range(1,5):\n",
    "        try:\n",
    "            sourcecode = open.open(page).read()\n",
    "\n",
    "            try:\n",
    "                comments = re.findall(b' <div class=\"user_review\" style=\"(.*?)</div> </div> </div><div class=\"row review_table_row\">', sourcecode)\n",
    "                for comment in comments:\n",
    "                    data1.append(comment)\n",
    "            except Exception as e:\n",
    "                print (e)\n",
    "\n",
    "        except Exception as e:\n",
    "            print(e)\n",
    "        \n",
    "        page = \"http://www.rottentomatoes.com/m/the_boss_2016/reviews/?page=\"+str(i)+\"&type=user&sort=\"\n",
    "    #print(data1)\n",
    "main()"
   ]
  },
  {
   "cell_type": "code",
   "execution_count": 53,
   "metadata": {
    "collapsed": false
   },
   "outputs": [],
   "source": [
    "data1[12]=data1[12].decode('ISO-8859-1')"
   ]
  },
  {
   "cell_type": "code",
   "execution_count": 54,
   "metadata": {
    "collapsed": false
   },
   "outputs": [],
   "source": [
    "data1[53]=data1[53].decode('ISO-8859-1')"
   ]
  },
  {
   "cell_type": "code",
   "execution_count": 55,
   "metadata": {
    "collapsed": false
   },
   "outputs": [],
   "source": [
    "for i in range (12):\n",
    "    data1[i]=data1[i].decode('utf-8')"
   ]
  },
  {
   "cell_type": "code",
   "execution_count": 56,
   "metadata": {
    "collapsed": false
   },
   "outputs": [],
   "source": [
    "for i in range (13,53):\n",
    "    data1[i]=data1[i].decode('utf-8')"
   ]
  },
  {
   "cell_type": "code",
   "execution_count": 57,
   "metadata": {
    "collapsed": false
   },
   "outputs": [],
   "source": [
    "data1[54]=data1[54].decode('ISO-8859-1')"
   ]
  },
  {
   "cell_type": "code",
   "execution_count": 58,
   "metadata": {
    "collapsed": false
   },
   "outputs": [],
   "source": [
    "data1[55]=data1[55].decode('utf-8')"
   ]
  },
  {
   "cell_type": "code",
   "execution_count": 59,
   "metadata": {
    "collapsed": false
   },
   "outputs": [],
   "source": [
    "for i in range(len(data1)):\n",
    "    data1[i] = re.sub(r'[^\\w]', ' ', data1[i])\n",
    "    data1[i] = (re.sub(\"^\\d+\\s|\\s\\d+\\s|\\s\\d+$\", \" \", data1[i])).lower()\n",
    "    #print(i, \" : \",data1[i])"
   ]
  },
  {
   "cell_type": "code",
   "execution_count": 60,
   "metadata": {
    "collapsed": false
   },
   "outputs": [],
   "source": [
    "import nltk"
   ]
  },
  {
   "cell_type": "code",
   "execution_count": 61,
   "metadata": {
    "collapsed": true
   },
   "outputs": [],
   "source": [
    "from nltk.corpus import stopwords\n",
    "from nltk.tokenize import word_tokenize"
   ]
  },
  {
   "cell_type": "code",
   "execution_count": 62,
   "metadata": {
    "collapsed": false
   },
   "outputs": [],
   "source": [
    "filteredData1=[]\n",
    "stopWords = set(stopwords.words('english'))\n",
    "new_stopWords = set(['href','div','p','br'])\n",
    "stopWords = stopWords|new_stopWords\n",
    "\n",
    "for row in data1:\n",
    "    eachWord = word_tokenize(row)\n",
    "    for i in eachWord:\n",
    "        if i not in stopWords or len(i)>1:\n",
    "            filteredData1.append(i)\n",
    "\n",
    "for i in filteredData1:\n",
    "    if i in new_stopWords or len(i)>1:\n",
    "        filteredData1.remove(i)"
   ]
  },
  {
   "cell_type": "code",
   "execution_count": 63,
   "metadata": {
    "collapsed": false
   },
   "outputs": [],
   "source": [
    "#filteredData1"
   ]
  },
  {
   "cell_type": "code",
   "execution_count": 64,
   "metadata": {
    "collapsed": true
   },
   "outputs": [],
   "source": [
    "from nltk.sentiment.vader import SentimentIntensityAnalyzer\n",
    "analyser1 = SentimentIntensityAnalyzer()"
   ]
  },
  {
   "cell_type": "code",
   "execution_count": 65,
   "metadata": {
    "collapsed": true
   },
   "outputs": [],
   "source": [
    "neg1 = []\n",
    "pos1 = []\n",
    "neu1 = []\n",
    "compo1 = []"
   ]
  },
  {
   "cell_type": "code",
   "execution_count": 66,
   "metadata": {
    "collapsed": true
   },
   "outputs": [],
   "source": [
    "for word in filteredData1:\n",
    "    result = analyser.polarity_scores(word)\n",
    "    neg1.append(result['neg'])\n",
    "    pos1.append(result['pos'])\n",
    "    neu1.append(result['neu'])\n",
    "    compo1.append(result['compound'])"
   ]
  },
  {
   "cell_type": "code",
   "execution_count": 67,
   "metadata": {
    "collapsed": true
   },
   "outputs": [],
   "source": [
    "import numpy as np\n",
    "data1=[sum(np.array(neg1)), sum(np.array(pos1))]"
   ]
  },
  {
   "cell_type": "code",
   "execution_count": 68,
   "metadata": {
    "collapsed": false
   },
   "outputs": [],
   "source": [
    "#data1"
   ]
  },
  {
   "cell_type": "code",
   "execution_count": 69,
   "metadata": {
    "collapsed": true
   },
   "outputs": [],
   "source": [
    "import matplotlib.pyplot as plt"
   ]
  },
  {
   "cell_type": "code",
   "execution_count": 70,
   "metadata": {
    "collapsed": true
   },
   "outputs": [],
   "source": [
    "y1=len(data1)\n",
    "x1 = np.arange(y1)\n",
    "\n",
    "#fig1, ax = plt.subplots()\n",
    "#plt.bar(x1, data1, width=1, color=\"blue\", align='center')\n",
    "#plt.xticks(range(4), ('Negative', 'Positive') )\n",
    "#plt.title(\"Plot for THE BOSS!!\")\n",
    "\n",
    "#plt.show()"
   ]
  },
  {
   "cell_type": "code",
   "execution_count": null,
   "metadata": {
    "collapsed": false
   },
   "outputs": [],
   "source": [
    "ax = plt.subplot(111)\n",
    "ax.bar(x, data,width=0.2,color='b',align='center', )\n",
    "ax.bar(x + 0.2, data1,width=0.2,color='r',align='center')\n",
    "\n",
    "ax.set_xticklabels([\"RT-->\",\"pos\",\"neg\",\"\",\"\",\"IMDB-->\",\"pos\",\"neg\"])\n",
    "plt.show()"
   ]
  },
  {
   "cell_type": "code",
   "execution_count": null,
   "metadata": {
    "collapsed": true
   },
   "outputs": [],
   "source": []
  }
 ],
 "metadata": {
  "kernelspec": {
   "display_name": "Python 3",
   "language": "python",
   "name": "python3"
  },
  "language_info": {
   "codemirror_mode": {
    "name": "ipython",
    "version": 3
   },
   "file_extension": ".py",
   "mimetype": "text/x-python",
   "name": "python",
   "nbconvert_exporter": "python",
   "pygments_lexer": "ipython3",
   "version": "3.5.1"
  }
 },
 "nbformat": 4,
 "nbformat_minor": 0
}
