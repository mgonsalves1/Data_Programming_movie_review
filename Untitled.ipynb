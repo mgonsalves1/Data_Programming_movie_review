{
 "cells": [
  {
   "cell_type": "code",
   "execution_count": 4,
   "metadata": {
    "collapsed": false
   },
   "outputs": [
    {
     "name": "stdout",
     "output_type": "stream",
     "text": [
      "local variable 'page' referenced before assignment\n",
      "[b'display:inline-block; width:100%\"> <div class=\"scoreWrapper\"><span class=\"20\"></span></div> For such a supposedly larger-than-life persona, the titular character of seemingly thrown-together comedy The Boss proves such an insignificant construct that not even one of H&#39;Wood&#39;s most gifted comedians can salvage her. With great writing, McCarthy&#39;s A-Level character work always shines. Without it, she still brings her A-Game (indeed, a few scenes bring the laughs), but not enough to save a story that boils down to a series of mostly lame gags shoved randomly into a flimsily composed three act flick based on the plight of Martha Stewart. Continuing a one-on/one-off formula of good film/bad film output that consists of Bridesmaids, Identify Thief, The Heat, Tammy, Spy, and now this hot mess of a motion picture, Melissa McCarthy&#39;s latest inconsistently rotates between slapstick stooging, (very) slight social commentary, and that old chestnut of melting a curmudgeonly cold heart. Granted, W.C. Fields made a career out of incorporating all three but he was a ridiculously talented writer. Unfortunately with The Boss, that job - as well as directing - gets handed to McCarthy&#39;s husband, Ben Falcone.<br/><br/>In this R-rated comedy, a titan of industry (McCarthy) convicted of insider trading emerges from prison ready to rebrand herself as America&#39;s latest sweetheart, but finds that not everyone she screwed over is so quick to forgive and forget. <br/><br/>Based on Falcone&#39;s embarrassingly unfunny screenplay for Tammy, The Boss had nowhere to go but up. The best that can be said of it is that he finally learned some Screenwriting 101, giving the piece somewhat of a three-act structure that Tammy never had. The least that can be said of it is that this structure results in such a boringly formulaic story that audiences color by numbers straight through to the end. The worst that can be said of it is that it never develops much of a character for McCarthy to work with. She spent years honing Darnell while with the Groundlings Improv Group in LA and, with The Boss, all she has to show for it is a woman in pantsuits who occasionally sports some McCarthyisms (not Communist, mind you, but her malapropisms like making bawdy threats THISclose to a person&#39;s face or weapons-grade prat falling). So basically, moviegoers get Hillary Clinton with much less of the venom...which is saying a lot because Darnell is a spitting cobra with a spray tan. <br/><br/>Bottom line: Mess Bossypants', b'display:inline-block; width:100%\"> <div class=\"scoreWrapper\"><span class=\"10\"></span></div> This movie is awful. The jokes aren&#39;t funny and are very forced. Most of the child actors are cringe-worthy. Kristen Schaal was present, but not utilized. She may have said 30 words, more than likely much less. The characters in the film said &quot;Michelle Darnel&quot; so much, that if one were to play a drinking game, most humans&#39; livers would fail far before the 45 minute mark. Don&#39;t watch this film, and if you do, demand a refund.', b'display:inline-block; width:100%\"> <div class=\"scoreWrapper\"><span class=\"35\"></span></div> i really liked it; it&#39;s a nice story and it&#39;s (fairly) clean humor, comparatively. i love the Kristen Bell-Melissa McCarthy duo. i found the bra scene to be particularly funny for some reason; but all in all, i laughed quite a bit.', b'display:inline-block; width:100%\"> <div class=\"scoreWrapper\"><span class=\"50\"></span></div> Melissa Mccarthy is an absolutely hilarious powerhouse in this comedy about friendship and family The Boss is an Instant classic!!!!!', b'display:inline-block; width:100%\"> <div class=\"scoreWrapper\"><span class=\"10\"></span></div> Not Melissa McCarthy&#39;s best. <br/>A few laughs. All of her other work is better than this film. I wouldn&#39;t recommend wasting your time or money to see this film.', b'display:inline-block; width:100%\"> <div class=\"scoreWrapper\"><span class=\"10\"></span></div> It was a terrible base movie with no real plot. I am a McCarthy fan. You can not even compare this to other movmov.', b'display:inline-block; width:100%\"> <div class=\"scoreWrapper\"><span class=\"45\"></span></div> I really liked this movie! I don&#39;t know why its getting bad reviews! it was funny, entertaining, and just out right ridiculous in the best of ways.', b'display:inline-block; width:100%\"> <div class=\"scoreWrapper\"><span class=\"25\"></span></div> As McCarthy stumbles into another comedic jumble with writer and director Ben Falcone, The Boss fails at creating constant laughs.', b'display:inline-block; width:100%\"> <div class=\"scoreWrapper\"><span class=\"50\"></span></div> I found it very enjoyable and very funny, and it still has all the touchy feely as well. everything I would expect from a great comedy, very glad I went to see it!', b'display:inline-block; width:100%\"> <div class=\"scoreWrapper\"><span class=\"45\"></span></div> If you like the raunchier Melissa McCarthy movies like The Heat and Tammy, you&#39;ll love this one. I haven&#39;t laughed so hard in ages! The bad reviews are because people are trying to be too p.c. these days and can&#39;t let loose and laugh. Melissa+comedy= winner!', b'display:inline-block; width:100%\"> <div class=\"scoreWrapper\"><span class=\"20\"></span></div> Although funny to an extent, The Boss doesn&#39;t deliver much on comedy and lacks on so many levels. The movie doesn&#39;t serve up much to be considered a decent comedy nor a die-hard laughing matter.', b'display:inline-block; width:100%\"> <div class=\"scoreWrapper\"><span class=\"30\"></span></div> Pretty good movie, made me laugh every now and then. But from the break in to get the contract up until the end it has some stupid stuff!! (Talking about Sucking dick scenes, samara sword fighting....really stupid and no meaning to have these scenes). One thing I must say that had me rolling and tear crying....was the scene where Melissa McCarthy comes into the scout meetings and says........&quot; Listen up you fuckers&quot;!!!! I <br/>was cry-laughing for a full 2-3 min.', b'display:inline-block; width:100%\"> <div class=\"scoreWrapper\"><span class=\"50\"></span></div> Hands down a great Movie! I would totally pay to see this a second time around, super funny & even<br/>Motivating a little bit\\xf0~&lt;. Personally I found the story line very entertaining, every movie has its low points but I give this one two thumbs up!\\xf0~\\xe2\\xef\\xb8?', b'display:inline-block; width:100%\"> <div class=\"scoreWrapper\"><span class=\"40\"></span></div> very funny, but terrible language. I expected it from Melissa McCarthy. her language is always terrible, but she is so funny.', b'display:inline-block; width:100%\"> <div class=\"scoreWrapper\"><span class=\"40\"></span></div> It gets baggy and overly silly in the last 20 minutes but Melissa McCarthy is the funniest person working in film right know and has some lines in this movie that i literally laughed out loud in the theater. Shes an amazing actress and this isn&#39;t as strong story wise as her stuff with Paul Feig but i laughed the whole movie and it was 100% better than Tammy, which she was still great in, but this one actually had a story line instead of a series of gags. my 4 stars is probably way to high but i laughed so much and i love McCarthy so i&#39;m going to stick with it.', b'display:inline-block; width:100%\"> <div class=\"scoreWrapper\"><span class=\"40\"></span></div> It is with great pleasure..should I be the only one to say that I really enjoyed this movie. I found myself a few times laughing at silly moments and thought the story line was passable. Isn&#39;t it teaching us all a lesson..don&#39;t count your chickens before they hatch. Would recommend seeing if you&#39;ve had a busy week and just need a silly haha moment.', b'display:inline-block; width:100%\"> <div class=\"scoreWrapper\"><span class=\"10\"></span></div> If you have trouble sleeping try watching this movie. Otherwise avoid.', b'display:inline-block; width:100%\"> <div class=\"scoreWrapper\"><span class=\"50\"></span></div> Ridiculously funny!!!', b'display:inline-block; width:100%\"> <div class=\"scoreWrapper\"><span class=\"40\"></span></div> It is with great pleasure..should I be the only one to say that I really enjoyed this movie. I found myself a few times laughing at silly moments and thought the story line was passable. Isn&#39;t it teaching us all a lesson..don&#39;t count your chickens before they hatch. Would recommend seeing if you&#39;ve had a busy week and just need a silly haha moment.', b'display:inline-block; width:100%\"> <div class=\"scoreWrapper\"><span class=\"10\"></span></div> If you have trouble sleeping try watching this movie. Otherwise avoid.', b'display:inline-block; width:100%\"> <div class=\"scoreWrapper\"><span class=\"50\"></span></div> Ridiculously funny!!!', b'display:inline-block; width:100%\"> <div class=\"scoreWrapper\"><span class=\"30\"></span></div> It was good but not one of her best movie.', b'display:inline-block; width:100%\"> <div class=\"scoreWrapper\"><span class=\"35\"></span></div> Wicked funny Melissa McCarthy movie! I don&#39;t see why it got terrible reviews, it gave her the chance to play a new type of character', b'display:inline-block; width:100%\"> <div class=\"scoreWrapper\"><span class=\"05\"></span></div> Well if she&#39;s gonna keep her F-bombs then I&#39;m going to quit cing her movies!?! Sorry but it&#39;s just not cool!!!!', b'display:inline-block; width:100%\"> <div class=\"scoreWrapper\"><span class=\"40\"></span></div> One of her funniest yet!', b'display:inline-block; width:100%\"> <div class=\"scoreWrapper\"><span class=\"30\"></span></div> It was mildly entertaining. Not her best but some funny parts.', b'display:inline-block; width:100%\"> <div class=\"scoreWrapper\"><span class=\"15\"></span></div> Disappointingly drab, insubstantial, half baked idea, much in the way of one of its producers Will Ferrell&#39;s absurd and lazy efforts.', b'display:inline-block; width:100%\"> <div class=\"scoreWrapper\"><span class=\"45\"></span></div> Amazing Movie. Must see!', b'display:inline-block; width:100%\"> <div class=\"scoreWrapper\"><span class=\"40\"></span></div> extremely enjoyable, light hearted comedy. this movie does suffer a bit because, they showed all the best parts in the trailers. but still a great movie.', b'display:inline-block; width:100%\"> <div class=\"scoreWrapper\"><span class=\"05\"></span></div> Awful just awful I just hated it !', b'display:inline-block; width:100%\"> <div class=\"scoreWrapper\"><span class=\"40\"></span></div> Melissa is funny as ever and takes this badly written script to absolut magic.', b'display:inline-block; width:100%\"> <div class=\"scoreWrapper\"><span class=\"10\"></span></div> This movie is awful. The jokes aren&#39;t funny and are very forced. Most of the child actors are cringe-worthy. Kristen Schaal was present, but not utilized. She may have said 30 words, more than likely much less. The characters in the film said &quot;Michelle Darnel&quot; so much, that if one were to play a drinking game, most humans&#39; livers would fail far before the 45 minute mark. Don&#39;t watch this film, and if you do, demand a refund.', b'display:inline-block; width:100%\"> <div class=\"scoreWrapper\"><span class=\"30\"></span></div> Not the best movie McCarthy has done but funny enough.', b'display:inline-block; width:100%\"> <div class=\"scoreWrapper\"><span class=\"35\"></span></div> Although a lot was cut out, still an overall good and funny film', b'display:inline-block; width:100%\"> <div class=\"scoreWrapper\"><span class=\"50\"></span></div> I just saw this movie and loved it', b'display:inline-block; width:100%\"> <div class=\"scoreWrapper\"><span class=\"50\"></span></div> Great movie. My girlfriends and I couldn&#39;t stop laughing!!!', b'display:inline-block; width:100%\"> <div class=\"scoreWrapper\"><span class=\"50\"></span></div> Very good and funny movie', b'display:inline-block; width:100%\"> <div class=\"scoreWrapper\"><span class=\"20\"></span></div> Compared with Melissa&#39;s last comedy, Spy, The Boss is a big disappointment. There aren&#39;t many laugh-out-loud moments, and the side characters are not funny enough to support the whole movie.', b'display:inline-block; width:100%\"> <div class=\"scoreWrapper\"><span class=\"35\"></span></div> It was better then (Tammy movie) that&#39;s for sure it was pretty funny at times she made for some of her not so funny roles. It&#39;s a comedy not for kids that&#39;s for sure but you get a kick out of it if you like Melissa McCarthy&#39;s movies', b'display:inline-block; width:100%\"> <div class=\"scoreWrapper\"><span class=\"35\"></span></div> It was a decent movie, had some funny moments. I just wish Melissa would stop playing the same type of woman over and over again its getting kind of boring.', b'display:inline-block; width:100%\"> <div class=\"scoreWrapper\"><span class=\"20\"></span></div> This movie was a terrible disappointment. Melissa McCarthy and Kristen Bell are two of my favorite actors. That was how I arrived at two stars, one for each of them. And honestly the two of them on the screen were the biggest redeeming qualities. There were a few laughs, mostly delivered by way of slapstick. I can&#39;t say I hated it, but I do think my money would have been better spent elsewhere.', b'display:inline-block; width:100%\"> <div class=\"scoreWrapper\"><span class=\"40\"></span></div> One of her funniest movies yet.', b'display:inline-block; width:100%\"> <div class=\"scoreWrapper\"><span class=\"35\"></span></div> Really funny at times, not the best comedy of all time, but it has its moments. I enjoyed it.', b'display:inline-block; width:100%\"> <div class=\"scoreWrapper\"><span class=\"ni\"></span></div> Melissa sucks as an actress, horrible move and would never recommend it to anyone!!!', b'display:inline-block; width:100%\"> <div class=\"scoreWrapper\"><span class=\"50\"></span></div> I have a love-hate relationship when it comes to fat ass Melissa McCarthy and fortunate for her I actually enjoyed the fuck out of this movie it was funny as hell and she was hysterical', b'display:inline-block; width:100%\"> <div class=\"scoreWrapper\"><span class=\"30\"></span></div> Melissa McCarthy saves The Boss from becoming a complete disaster.', b'display:inline-block; width:100%\"> <div class=\"scoreWrapper\"><span class=\"20\"></span></div> There&#39;s nothing new and original with The Boss. The gags are few and far between and the writing resorts to crude and obscene jokes.', b'display:inline-block; width:100%\"> <div class=\"scoreWrapper\"><span class=\"05\"></span></div> This show for Melissa I felt was the worst show she has acted in. It was so vulgar and even the child that was about 10 years old was swearing. Every vulgar word you could think of was said. And at one times there were about 15 children at one time and the language was awful. I was very dissatisfied and disappointed with this show that she would allow that with her kids on the set also. It was gross!', b'display:inline-block; width:100%\"> <div class=\"scoreWrapper\"><span class=\"30\"></span></div> As awful as it probably was I just love me some Melissa. A street brawl is a high moment of the piece.', b'display:inline-block; width:100%\"> <div class=\"scoreWrapper\"><span class=\"05\"></span></div> DO NOT not waste your money or time on the movie &quot;THE BOSS&quot;. It was the worst film Daryl and I have seen. There were a couple funny scenes but they were down played by all the swearing and fowl discussions of unnecessary stuff to make a movie funny. They killed a possibly funny plot with unnecessary trash. Melissa&#39;s husband directed this film?? He must be trying to kill her career. She needs to learn to say NO to any more films like this that he may suggest to her. I hope the Ghost Busters film is nothing like this. I am not sure I am willing to take a chance of seeing it after this last film of hers.', b'display:inline-block; width:100%\"> <div class=\"scoreWrapper\"><span class=\"40\"></span></div> Silly movie but LOVE Melissa McCarthy <br/>Peter Drinklage good too', b'display:inline-block; width:100%\"> <div class=\"scoreWrapper\"><span class=\"25\"></span></div> The Boss was a decently funny film at times, but is potentially ruined by a silly final act.', b'display:inline-block; width:100%\"> <div class=\"scoreWrapper\"><span class=\"35\"></span></div> As someone who watched the movie, I loved the beginning and middle, but the end wasn&#39;t that great. The beginning showed a lot of laughs and it was pretty good but then the end hit and I was so bored. I was very uninterested by the end. Overall it was a great movie but the end didn&#39;t show the amount of how hilarious the beginning was. You could watch the movie but I wouldn&#39;t waste my money on. I would wait till the movie came out.', b'display:inline-block; width:100%\"> <div class=\"scoreWrapper\"><span class=\"30\"></span></div> did not find it funny at all and I love the actresses :/ not sure what the deal was..a couple funny parts is all.', b'display:inline-block; width:100%\"> <div class=\"scoreWrapper\"><span class=\"15\"></span></div> Let me start by saying I have never been Melissa McCarthy fan. Sure, I liked her in some movies like the Bridesmaids as well last years hilarious Spy, but somehow I think her physical comedy at times gets really off putting. Here, she teams again, after the disastrous Tammy, with Ben Falcone, McCarthy&#39;s husband and longtime collaborator for a film written by both and produced by Adam Mckay (The Big Short, Anchorman films) & Will Ferrell&#39;s Gary Sanchez Productions. This production house has dished out some really good comedies in the past. But of late it seems to have lost steam, their latest Daddy&#39;s Home (2015) was rather a decent watch. But this one is a completely bland affair - one of those hit and run films production houses mass produce in off-season, just to keep their people employed. Agreed, Melissa McCarthy is a successful comedic actress. Her films make a ton of money and she&#39;s been nominated for an Oscar. I&#39;m happy for the girl but in my opinion, she hasn&#39;t been humorous in a movie since 2011&#39;s Bridesmaids (of which she got said Oscar nom) and to some extend the successful Spy (but credit for that goes to Paul Feig&#39;s writing and Jason Statham&#39;s show stealing performance). Melissa has become the female Vince Vaughn being that she plays the same character type and bemoans the same tired mannerisms in all of her projects. She has also become the female Chris Farley. The only difference is that her aptitude of physical comedy doesn&#39;t have any payoffs or a means to an end. When McCarthy falls down the stairs in this film, it&#39;s not justified and it feels like it was never supposed to happen. When she lays down on a fold out bed and it hurls her against a wall, it doesn&#39;t register as plausible. All these shenanigans are done to force a laugh out of you. The story follows Michelle Darnell (Melissa McCarthy), a high-powered businesswoman and motivational speaker whose childhood (back and forth between an orphanage and foster care) taught her that the only person she can depend on is herself. She&#39;s self-centered, arrogant and basically amoral. She cares little for anyone, even her never sleeping assistant Clair Rawlins (Kristen Bell). One day, Michelle&#39;s business enemy, and former lover, a Japanese culture loving Renault (Peter Dinklage), exposes her insider trading, which puts her in prison for five months, along with her property seized by the government and her bank accounts frozen, putting her back at square one. With no place to go and no one willing to work with her, she shows up at the front door of Claire, who lives with her young daughter Rachel, and has taken a new job. She lets Michelle stay with them, but forces her to help out, including taking Rachel to her scouting meeting. It&#39;s here where she discovers that the girl&#39;s troop sells a high amount of cookies. It&#39;s here where she&#39;s inspired to make a brand new scouting troop that sells brownies that are cooked by Claire and twenty percent of the profits go back to the girls. The story here is completely predictable. The clich\\xe9d plot lazily recycles the often used story of a main character who has been hardened by a tough life and doesn&#39;t know how to give or receive love. There are portions of raw physical comedy too. Falcone&#39;s direction randomly makes use of McCarthy&#39;s talent for physical comedy, but rarely gets her or the other actors to show us anything interesting or even very likable about their characters. Both the script and the acting give us characters who often change their tones and their attitudes toward other characters abruptly and with no clear reason why. The humor is of poorly calibrated slapstick category. We also see characters meeting for the first time, but acting like they already know each other, again without explanation.There is also a lack of realism in the way the script portrays the fallout from Michelle&#39;s crimes, and her business dealings as the head of Darnell&#39;s Darlings, but this comedy&#39;s biggest flaw is its lack of comedy. There are a few laughs to be found here and there, but the movie&#39;s other problems just kill the mood. Besides that, the movie&#39;s attempts at humor are overly dependent on cartoonish violence involving children, cursing around, by and at children, and vulgar sexual references which come off as more crude than funny. You literally stop laughing after a limit! This flick is supposed to be about the trading of securities, entrepreneurship, and the emergence of a self-made woman. However, the interplay between the troupers came off as though no one did any research on these subjects. During the film with its twisted innuendos, its sense of cringing fantasy, and its morbid sense of hilarity, I had no idea what McCarthy&#39;s Darnell did for a living, no idea what kind of job Kristin Bell&#39;s Claire had, and no idea how Peter Dinklage&#39;s antagonistic Renault became so rich. What we&#39;re left with as an audience, is improvised not to mention grating dialogue from mediocre actors (McCarthy for the moment, is excluded and Bell could do better than this thankless role). I mean was there no one on set to consult Falcone, McCarthy, or Mallory on the ins and outs of CEO compartmentalization (or anything Martha Stewart went through)? Guess not. The opening sequence in the film has Melissa&#39;s Michelle Darnell making an appearance at Chicago&#39;s famed, United Center. She comes down on a phoenix and basically says, &quot;I&#39;m the wealthiest woman in America&quot; and &quot;do you wanna make some f**cking money!&quot; Heck, a second grader with a &#39;C&#39; average could have written those lines. In the spirit of exaggeration in lieu of creativity, three scenes in particular stand out: the street fight between rival scout troops, a ridiculous breast grope-off with McCarthy and Bell, and a clumsily staged sword fight between McCarthy and Dinklage. The missed opportunity to have a point about girls in business, and stooping to schmaltz with the Michelle family story are every bit as disappointing as the mostly unfunny and constant use of profanity-laced insults. Making an R rated movie around something that&#39;s supposed to be child friendly is a extremely tough sell and this movie justifies why something like this one shouldn&#39;t be pursued without an intelligent script. As is, I laughed a few times, but mostly by how insane McCarthy can be with her character. Both Kristen Bell and Peter Dinklage try their best, but the material gives them little to work with, and their stuck telling predictable jokes with a predictable story. Even Tyler Labine and Kathy Bates are wasted. On the whole, &#39;The Boss&#39; is mildly funny in parts, but is a wholly predictable, disappointing and scattershot comedic wreck that you probably will never remember.', b'display:inline-block; width:100%\"> <div class=\"scoreWrapper\"><span class=\"\"></span></div> Melissa McCarthy is still terrible']\n"
     ]
    }
   ],
   "source": [
    "import time\n",
    "import urllib\n",
    "import urllib.request\n",
    "from urllib.request import urlopen\n",
    "import re\n",
    "from http.cookiejar import CookieJar\n",
    "import http.cookiejar\n",
    "import datetime\n",
    "import pprint\n",
    "\n",
    "\n",
    "cj = CookieJar()\n",
    "open = urllib.request.build_opener(urllib.request.HTTPCookieProcessor(cj))\n",
    "page = 'http://www.rottentomatoes.com/m/the_boss_2016/reviews/?type=user'\n",
    "data = []\n",
    "def main():\n",
    "     for i in range(1,5):\n",
    "        try:\n",
    "            sourcecode = open.open(page).read()\n",
    "\n",
    "            try:\n",
    "                comments = re.findall(b' <div class=\"user_review\" style=\"(.*?)</div> </div> </div><div class=\"row review_table_row\">', sourcecode)\n",
    "                for comment in comments:\n",
    "                    data.append(comment)\n",
    "            except Exception as e:\n",
    "                print (e)\n",
    "\n",
    "        except Exception as e:\n",
    "            print(e)\n",
    "        \n",
    "        page = \"http://www.rottentomatoes.com/m/the_boss_2016/reviews/?page=\"+str(i)+\"&type=user&sort=\"\n",
    "     print(data)\n",
    "main()"
   ]
  },
  {
   "cell_type": "code",
   "execution_count": 5,
   "metadata": {
    "collapsed": false
   },
   "outputs": [
    {
     "data": {
      "text/plain": [
       "bytes"
      ]
     },
     "execution_count": 5,
     "metadata": {},
     "output_type": "execute_result"
    }
   ],
   "source": [
    "type(data[0])"
   ]
  },
  {
   "cell_type": "code",
   "execution_count": 7,
   "metadata": {
    "collapsed": false
   },
   "outputs": [
    {
     "ename": "UnicodeDecodeError",
     "evalue": "'utf-8' codec can't decode byte 0xf0 in position 218: invalid continuation byte",
     "output_type": "error",
     "traceback": [
      "\u001b[1;31m---------------------------------------------------------------------------\u001b[0m",
      "\u001b[1;31mUnicodeDecodeError\u001b[0m                        Traceback (most recent call last)",
      "\u001b[1;32m<ipython-input-7-b23d8a868abe>\u001b[0m in \u001b[0;36m<module>\u001b[1;34m()\u001b[0m\n\u001b[0;32m      1\u001b[0m \u001b[1;32mfor\u001b[0m \u001b[0mi\u001b[0m \u001b[1;32min\u001b[0m \u001b[0mrange\u001b[0m\u001b[1;33m(\u001b[0m\u001b[0mlen\u001b[0m\u001b[1;33m(\u001b[0m\u001b[0mdata\u001b[0m\u001b[1;33m)\u001b[0m\u001b[1;33m)\u001b[0m\u001b[1;33m:\u001b[0m\u001b[1;33m\u001b[0m\u001b[0m\n\u001b[1;32m----> 2\u001b[1;33m     \u001b[0mdata\u001b[0m\u001b[1;33m[\u001b[0m\u001b[0mi\u001b[0m\u001b[1;33m]\u001b[0m\u001b[1;33m=\u001b[0m\u001b[0mdata\u001b[0m\u001b[1;33m[\u001b[0m\u001b[0mi\u001b[0m\u001b[1;33m]\u001b[0m\u001b[1;33m.\u001b[0m\u001b[0mdecode\u001b[0m\u001b[1;33m(\u001b[0m\u001b[1;34m'UTF-8'\u001b[0m\u001b[1;33m)\u001b[0m\u001b[1;33m\u001b[0m\u001b[0m\n\u001b[0m",
      "\u001b[1;31mUnicodeDecodeError\u001b[0m: 'utf-8' codec can't decode byte 0xf0 in position 218: invalid continuation byte"
     ]
    }
   ],
   "source": [
    "for i in range(len(data)):\n",
    "    data[i]=data[i].decode('UTF-8')"
   ]
  },
  {
   "cell_type": "code",
   "execution_count": 8,
   "metadata": {
    "collapsed": false
   },
   "outputs": [
    {
     "data": {
      "text/plain": [
       "str"
      ]
     },
     "execution_count": 8,
     "metadata": {},
     "output_type": "execute_result"
    }
   ],
   "source": [
    "type(data[0])"
   ]
  },
  {
   "cell_type": "code",
   "execution_count": 9,
   "metadata": {
    "collapsed": false
   },
   "outputs": [
    {
     "data": {
      "text/plain": [
       "bytes"
      ]
     },
     "execution_count": 9,
     "metadata": {},
     "output_type": "execute_result"
    }
   ],
   "source": [
    "type(data[12])"
   ]
  },
  {
   "cell_type": "code",
   "execution_count": 10,
   "metadata": {
    "collapsed": false
   },
   "outputs": [
    {
     "data": {
      "text/plain": [
       "str"
      ]
     },
     "execution_count": 10,
     "metadata": {},
     "output_type": "execute_result"
    }
   ],
   "source": [
    "type(data[11])"
   ]
  },
  {
   "cell_type": "code",
   "execution_count": 12,
   "metadata": {
    "collapsed": false
   },
   "outputs": [
    {
     "ename": "AttributeError",
     "evalue": "'str' object has no attribute 'decode'",
     "output_type": "error",
     "traceback": [
      "\u001b[1;31m---------------------------------------------------------------------------\u001b[0m",
      "\u001b[1;31mAttributeError\u001b[0m                            Traceback (most recent call last)",
      "\u001b[1;32m<ipython-input-12-cf1bd311528d>\u001b[0m in \u001b[0;36m<module>\u001b[1;34m()\u001b[0m\n\u001b[0;32m      1\u001b[0m \u001b[1;32mfor\u001b[0m \u001b[0mi\u001b[0m \u001b[1;32min\u001b[0m \u001b[0mrange\u001b[0m\u001b[1;33m(\u001b[0m\u001b[1;36m14\u001b[0m\u001b[1;33m,\u001b[0m\u001b[0mlen\u001b[0m\u001b[1;33m(\u001b[0m\u001b[0mdata\u001b[0m\u001b[1;33m)\u001b[0m\u001b[1;33m)\u001b[0m\u001b[1;33m:\u001b[0m\u001b[1;33m\u001b[0m\u001b[0m\n\u001b[1;32m----> 2\u001b[1;33m     \u001b[0mdata\u001b[0m\u001b[1;33m[\u001b[0m\u001b[0mi\u001b[0m\u001b[1;33m]\u001b[0m\u001b[1;33m=\u001b[0m\u001b[0mdata\u001b[0m\u001b[1;33m[\u001b[0m\u001b[0mi\u001b[0m\u001b[1;33m]\u001b[0m\u001b[1;33m.\u001b[0m\u001b[0mdecode\u001b[0m\u001b[1;33m(\u001b[0m\u001b[1;34m'UTF-8'\u001b[0m\u001b[1;33m)\u001b[0m\u001b[1;33m\u001b[0m\u001b[0m\n\u001b[0m",
      "\u001b[1;31mAttributeError\u001b[0m: 'str' object has no attribute 'decode'"
     ]
    }
   ],
   "source": [
    "for i in range(14,len(data)):\n",
    "    data[i]=data[i].decode('UTF-8')"
   ]
  },
  {
   "cell_type": "code",
   "execution_count": 17,
   "metadata": {
    "collapsed": false
   },
   "outputs": [
    {
     "data": {
      "text/plain": [
       "bytes"
      ]
     },
     "execution_count": 17,
     "metadata": {},
     "output_type": "execute_result"
    }
   ],
   "source": [
    "type(data[54])"
   ]
  },
  {
   "cell_type": "code",
   "execution_count": 18,
   "metadata": {
    "collapsed": false
   },
   "outputs": [],
   "source": [
    "for i in range(55,len(data)):\n",
    "    data[i]=data[i].decode('UTF-8')"
   ]
  },
  {
   "cell_type": "code",
   "execution_count": 19,
   "metadata": {
    "collapsed": false
   },
   "outputs": [
    {
     "name": "stdout",
     "output_type": "stream",
     "text": [
      "0  :  display inline block  width     div class  scorewrapper   span class     span   div  for such a supposedly larger than life persona  the titular character of seemingly thrown together comedy the boss proves such an insignificant construct that not even one of h  wood  s most gifted comedians can salvage her  with great writing  mccarthy  s a level character work always shines  without it  she still brings her a game  indeed  a few scenes bring the laughs   but not enough to save a story that boils down to a series of mostly lame gags shoved randomly into a flimsily composed three act flick based on the plight of martha stewart  continuing a one on one off formula of good film bad film output that consists of bridesmaids  identify thief  the heat  tammy  spy  and now this hot mess of a motion picture  melissa mccarthy  s latest inconsistently rotates between slapstick stooging   very  slight social commentary  and that old chestnut of melting a curmudgeonly cold heart  granted  w c  fields made a career out of incorporating all three but he was a ridiculously talented writer  unfortunately with the boss  that job   as well as directing   gets handed to mccarthy  s husband  ben falcone  br   br  in this r rated comedy  a titan of industry  mccarthy  convicted of insider trading emerges from prison ready to rebrand herself as america  s latest sweetheart  but finds that not everyone she screwed over is so quick to forgive and forget   br   br  based on falcone  s embarrassingly unfunny screenplay for tammy  the boss had nowhere to go but up  the best that can be said of it is that he finally learned some screenwriting  giving the piece somewhat of a three act structure that tammy never had  the least that can be said of it is that this structure results in such a boringly formulaic story that audiences color by numbers straight through to the end  the worst that can be said of it is that it never develops much of a character for mccarthy to work with  she spent years honing darnell while with the groundlings improv group in la and  with the boss  all she has to show for it is a woman in pantsuits who occasionally sports some mccarthyisms  not communist  mind you  but her malapropisms like making bawdy threats thisclose to a person  s face or weapons grade prat falling   so basically  moviegoers get hillary clinton with much less of the venom   which is saying a lot because darnell is a spitting cobra with a spray tan   br   br  bottom line  mess bossypants\n",
      "1  :  display inline block  width     div class  scorewrapper   span class     span   div  this movie is awful  the jokes aren  t funny and are very forced  most of the child actors are cringe worthy  kristen schaal was present  but not utilized  she may have said words  more than likely much less  the characters in the film said  quot michelle darnel quot  so much  that if one were to play a drinking game  most humans   livers would fail far before the minute mark  don  t watch this film  and if you do  demand a refund \n",
      "2  :  display inline block  width     div class  scorewrapper   span class     span   div  i really liked it  it  s a nice story and it  s  fairly  clean humor  comparatively  i love the kristen bell melissa mccarthy duo  i found the bra scene to be particularly funny for some reason  but all in all  i laughed quite a bit \n",
      "3  :  display inline block  width     div class  scorewrapper   span class     span   div  melissa mccarthy is an absolutely hilarious powerhouse in this comedy about friendship and family the boss is an instant classic     \n",
      "4  :  display inline block  width     div class  scorewrapper   span class     span   div  not melissa mccarthy  s best   br  a few laughs  all of her other work is better than this film  i wouldn  t recommend wasting your time or money to see this film \n",
      "5  :  display inline block  width     div class  scorewrapper   span class     span   div  it was a terrible base movie with no real plot  i am a mccarthy fan  you can not even compare this to other movmov \n",
      "6  :  display inline block  width     div class  scorewrapper   span class     span   div  i really liked this movie  i don  t know why its getting bad reviews  it was funny  entertaining  and just out right ridiculous in the best of ways \n",
      "7  :  display inline block  width     div class  scorewrapper   span class     span   div  as mccarthy stumbles into another comedic jumble with writer and director ben falcone  the boss fails at creating constant laughs \n",
      "8  :  display inline block  width     div class  scorewrapper   span class     span   div  i found it very enjoyable and very funny  and it still has all the touchy feely as well  everything i would expect from a great comedy  very glad i went to see it \n",
      "9  :  display inline block  width     div class  scorewrapper   span class     span   div  if you like the raunchier melissa mccarthy movies like the heat and tammy  you  ll love this one  i haven  t laughed so hard in ages  the bad reviews are because people are trying to be too p c  these days and can  t let loose and laugh  melissa comedy  winner \n",
      "10  :  display inline block  width     div class  scorewrapper   span class     span   div  although funny to an extent  the boss doesn  t deliver much on comedy and lacks on so many levels  the movie doesn  t serve up much to be considered a decent comedy nor a die hard laughing matter \n",
      "11  :  display inline block  width     div class  scorewrapper   span class     span   div  pretty good movie  made me laugh every now and then  but from the break in to get the contract up until the end it has some stupid stuff    talking about sucking dick scenes  samara sword fighting    really stupid and no meaning to have these scenes   one thing i must say that had me rolling and tear crying    was the scene where melissa mccarthy comes into the scout meetings and says         quot  listen up you fuckers quot      i  br  was cry laughing for a full min \n"
     ]
    },
    {
     "ename": "TypeError",
     "evalue": "cannot use a string pattern on a bytes-like object",
     "output_type": "error",
     "traceback": [
      "\u001b[1;31m---------------------------------------------------------------------------\u001b[0m",
      "\u001b[1;31mTypeError\u001b[0m                                 Traceback (most recent call last)",
      "\u001b[1;32m<ipython-input-19-38a2c1248c12>\u001b[0m in \u001b[0;36m<module>\u001b[1;34m()\u001b[0m\n\u001b[0;32m      1\u001b[0m \u001b[1;32mfor\u001b[0m \u001b[0mi\u001b[0m \u001b[1;32min\u001b[0m \u001b[0mrange\u001b[0m\u001b[1;33m(\u001b[0m\u001b[1;36m0\u001b[0m\u001b[1;33m,\u001b[0m\u001b[0mlen\u001b[0m\u001b[1;33m(\u001b[0m\u001b[0mdata\u001b[0m\u001b[1;33m)\u001b[0m\u001b[1;33m)\u001b[0m\u001b[1;33m:\u001b[0m\u001b[1;33m\u001b[0m\u001b[0m\n\u001b[1;32m----> 2\u001b[1;33m     \u001b[0mdata\u001b[0m\u001b[1;33m[\u001b[0m\u001b[0mi\u001b[0m\u001b[1;33m]\u001b[0m \u001b[1;33m=\u001b[0m \u001b[0mre\u001b[0m\u001b[1;33m.\u001b[0m\u001b[0msub\u001b[0m\u001b[1;33m(\u001b[0m\u001b[1;34mr'[^\\w]'\u001b[0m\u001b[1;33m,\u001b[0m \u001b[1;34m' '\u001b[0m\u001b[1;33m,\u001b[0m \u001b[0mdata\u001b[0m\u001b[1;33m[\u001b[0m\u001b[0mi\u001b[0m\u001b[1;33m]\u001b[0m\u001b[1;33m)\u001b[0m\u001b[1;33m\u001b[0m\u001b[0m\n\u001b[0m\u001b[0;32m      3\u001b[0m     \u001b[0mdata\u001b[0m\u001b[1;33m[\u001b[0m\u001b[0mi\u001b[0m\u001b[1;33m]\u001b[0m \u001b[1;33m=\u001b[0m \u001b[1;33m(\u001b[0m\u001b[0mre\u001b[0m\u001b[1;33m.\u001b[0m\u001b[0msub\u001b[0m\u001b[1;33m(\u001b[0m\u001b[1;34m\"^\\d+\\s|\\s\\d+\\s|\\s\\d+$\"\u001b[0m\u001b[1;33m,\u001b[0m \u001b[1;34m\" \"\u001b[0m\u001b[1;33m,\u001b[0m \u001b[0mdata\u001b[0m\u001b[1;33m[\u001b[0m\u001b[0mi\u001b[0m\u001b[1;33m]\u001b[0m\u001b[1;33m)\u001b[0m\u001b[1;33m)\u001b[0m\u001b[1;33m.\u001b[0m\u001b[0mlower\u001b[0m\u001b[1;33m(\u001b[0m\u001b[1;33m)\u001b[0m\u001b[1;33m\u001b[0m\u001b[0m\n\u001b[0;32m      4\u001b[0m     \u001b[0mprint\u001b[0m\u001b[1;33m(\u001b[0m\u001b[0mi\u001b[0m\u001b[1;33m,\u001b[0m \u001b[1;34m\" : \"\u001b[0m\u001b[1;33m,\u001b[0m\u001b[0mdata\u001b[0m\u001b[1;33m[\u001b[0m\u001b[0mi\u001b[0m\u001b[1;33m]\u001b[0m\u001b[1;33m)\u001b[0m\u001b[1;33m\u001b[0m\u001b[0m\n",
      "\u001b[1;32mC:\\Users\\Dell\\Anaconda3\\lib\\re.py\u001b[0m in \u001b[0;36msub\u001b[1;34m(pattern, repl, string, count, flags)\u001b[0m\n\u001b[0;32m    180\u001b[0m     \u001b[0ma\u001b[0m \u001b[0mcallable\u001b[0m\u001b[1;33m,\u001b[0m \u001b[0mit\u001b[0m\u001b[0;31m'\u001b[0m\u001b[0ms\u001b[0m \u001b[0mpassed\u001b[0m \u001b[0mthe\u001b[0m \u001b[0mmatch\u001b[0m \u001b[0mobject\u001b[0m \u001b[1;32mand\u001b[0m \u001b[0mmust\u001b[0m \u001b[1;32mreturn\u001b[0m\u001b[1;33m\u001b[0m\u001b[0m\n\u001b[0;32m    181\u001b[0m     a replacement string to be used.\"\"\"\n\u001b[1;32m--> 182\u001b[1;33m     \u001b[1;32mreturn\u001b[0m \u001b[0m_compile\u001b[0m\u001b[1;33m(\u001b[0m\u001b[0mpattern\u001b[0m\u001b[1;33m,\u001b[0m \u001b[0mflags\u001b[0m\u001b[1;33m)\u001b[0m\u001b[1;33m.\u001b[0m\u001b[0msub\u001b[0m\u001b[1;33m(\u001b[0m\u001b[0mrepl\u001b[0m\u001b[1;33m,\u001b[0m \u001b[0mstring\u001b[0m\u001b[1;33m,\u001b[0m \u001b[0mcount\u001b[0m\u001b[1;33m)\u001b[0m\u001b[1;33m\u001b[0m\u001b[0m\n\u001b[0m\u001b[0;32m    183\u001b[0m \u001b[1;33m\u001b[0m\u001b[0m\n\u001b[0;32m    184\u001b[0m \u001b[1;32mdef\u001b[0m \u001b[0msubn\u001b[0m\u001b[1;33m(\u001b[0m\u001b[0mpattern\u001b[0m\u001b[1;33m,\u001b[0m \u001b[0mrepl\u001b[0m\u001b[1;33m,\u001b[0m \u001b[0mstring\u001b[0m\u001b[1;33m,\u001b[0m \u001b[0mcount\u001b[0m\u001b[1;33m=\u001b[0m\u001b[1;36m0\u001b[0m\u001b[1;33m,\u001b[0m \u001b[0mflags\u001b[0m\u001b[1;33m=\u001b[0m\u001b[1;36m0\u001b[0m\u001b[1;33m)\u001b[0m\u001b[1;33m:\u001b[0m\u001b[1;33m\u001b[0m\u001b[0m\n",
      "\u001b[1;31mTypeError\u001b[0m: cannot use a string pattern on a bytes-like object"
     ]
    }
   ],
   "source": [
    "for i in range(0,len(data)):\n",
    "    data[i] = re.sub(r'[^\\w]', ' ', data[i])\n",
    "    data[i] = (re.sub(\"^\\d+\\s|\\s\\d+\\s|\\s\\d+$\", \" \", data[i])).lower()\n",
    "    print(i, \" : \",data[i])"
   ]
  },
  {
   "cell_type": "code",
   "execution_count": 20,
   "metadata": {
    "collapsed": true
   },
   "outputs": [],
   "source": [
    "from nltk.corpus import stopwords\n",
    "from nltk.tokenize import word_tokenize"
   ]
  },
  {
   "cell_type": "code",
   "execution_count": 21,
   "metadata": {
    "collapsed": false
   },
   "outputs": [
    {
     "ename": "TypeError",
     "evalue": "cannot use a string pattern on a bytes-like object",
     "output_type": "error",
     "traceback": [
      "\u001b[1;31m---------------------------------------------------------------------------\u001b[0m",
      "\u001b[1;31mTypeError\u001b[0m                                 Traceback (most recent call last)",
      "\u001b[1;32m<ipython-input-21-98899f17af2d>\u001b[0m in \u001b[0;36m<module>\u001b[1;34m()\u001b[0m\n\u001b[0;32m      3\u001b[0m \u001b[1;33m\u001b[0m\u001b[0m\n\u001b[0;32m      4\u001b[0m \u001b[1;32mfor\u001b[0m \u001b[0mrow\u001b[0m \u001b[1;32min\u001b[0m \u001b[0mdata\u001b[0m\u001b[1;33m:\u001b[0m\u001b[1;33m\u001b[0m\u001b[0m\n\u001b[1;32m----> 5\u001b[1;33m     \u001b[0meachWord\u001b[0m \u001b[1;33m=\u001b[0m \u001b[0mword_tokenize\u001b[0m\u001b[1;33m(\u001b[0m\u001b[0mrow\u001b[0m\u001b[1;33m)\u001b[0m\u001b[1;33m\u001b[0m\u001b[0m\n\u001b[0m\u001b[0;32m      6\u001b[0m     \u001b[1;32mfor\u001b[0m \u001b[0mi\u001b[0m \u001b[1;32min\u001b[0m \u001b[0meachWord\u001b[0m\u001b[1;33m:\u001b[0m\u001b[1;33m\u001b[0m\u001b[0m\n\u001b[0;32m      7\u001b[0m         \u001b[1;32mif\u001b[0m \u001b[0mi\u001b[0m \u001b[1;32mnot\u001b[0m \u001b[1;32min\u001b[0m \u001b[0mstopWords\u001b[0m \u001b[1;32mor\u001b[0m \u001b[0mlen\u001b[0m\u001b[1;33m(\u001b[0m\u001b[0mi\u001b[0m\u001b[1;33m)\u001b[0m\u001b[1;33m>\u001b[0m\u001b[1;36m1\u001b[0m\u001b[1;33m:\u001b[0m\u001b[1;33m\u001b[0m\u001b[0m\n",
      "\u001b[1;32mC:\\Users\\Dell\\Anaconda3\\lib\\site-packages\\nltk\\tokenize\\__init__.py\u001b[0m in \u001b[0;36mword_tokenize\u001b[1;34m(text, language)\u001b[0m\n\u001b[0;32m    103\u001b[0m     \u001b[1;33m:\u001b[0m\u001b[0mparam\u001b[0m \u001b[0mlanguage\u001b[0m\u001b[1;33m:\u001b[0m \u001b[0mthe\u001b[0m \u001b[0mmodel\u001b[0m \u001b[0mname\u001b[0m \u001b[1;32min\u001b[0m \u001b[0mthe\u001b[0m \u001b[0mPunkt\u001b[0m \u001b[0mcorpus\u001b[0m\u001b[1;33m\u001b[0m\u001b[0m\n\u001b[0;32m    104\u001b[0m     \"\"\"\n\u001b[1;32m--> 105\u001b[1;33m     return [token for sent in sent_tokenize(text, language)\n\u001b[0m\u001b[0;32m    106\u001b[0m             for token in _treebank_word_tokenize(sent)]\n\u001b[0;32m    107\u001b[0m \u001b[1;33m\u001b[0m\u001b[0m\n",
      "\u001b[1;32mC:\\Users\\Dell\\Anaconda3\\lib\\site-packages\\nltk\\tokenize\\__init__.py\u001b[0m in \u001b[0;36msent_tokenize\u001b[1;34m(text, language)\u001b[0m\n\u001b[0;32m     88\u001b[0m     \"\"\"\n\u001b[0;32m     89\u001b[0m     \u001b[0mtokenizer\u001b[0m \u001b[1;33m=\u001b[0m \u001b[0mload\u001b[0m\u001b[1;33m(\u001b[0m\u001b[1;34m'tokenizers/punkt/{0}.pickle'\u001b[0m\u001b[1;33m.\u001b[0m\u001b[0mformat\u001b[0m\u001b[1;33m(\u001b[0m\u001b[0mlanguage\u001b[0m\u001b[1;33m)\u001b[0m\u001b[1;33m)\u001b[0m\u001b[1;33m\u001b[0m\u001b[0m\n\u001b[1;32m---> 90\u001b[1;33m     \u001b[1;32mreturn\u001b[0m \u001b[0mtokenizer\u001b[0m\u001b[1;33m.\u001b[0m\u001b[0mtokenize\u001b[0m\u001b[1;33m(\u001b[0m\u001b[0mtext\u001b[0m\u001b[1;33m)\u001b[0m\u001b[1;33m\u001b[0m\u001b[0m\n\u001b[0m\u001b[0;32m     91\u001b[0m \u001b[1;33m\u001b[0m\u001b[0m\n\u001b[0;32m     92\u001b[0m \u001b[1;31m# Standard word tokenizer.\u001b[0m\u001b[1;33m\u001b[0m\u001b[1;33m\u001b[0m\u001b[0m\n",
      "\u001b[1;32mC:\\Users\\Dell\\Anaconda3\\lib\\site-packages\\nltk\\tokenize\\punkt.py\u001b[0m in \u001b[0;36mtokenize\u001b[1;34m(self, text, realign_boundaries)\u001b[0m\n\u001b[0;32m   1224\u001b[0m         \u001b[0mGiven\u001b[0m \u001b[0ma\u001b[0m \u001b[0mtext\u001b[0m\u001b[1;33m,\u001b[0m \u001b[0mreturns\u001b[0m \u001b[0ma\u001b[0m \u001b[0mlist\u001b[0m \u001b[0mof\u001b[0m \u001b[0mthe\u001b[0m \u001b[0msentences\u001b[0m \u001b[1;32min\u001b[0m \u001b[0mthat\u001b[0m \u001b[0mtext\u001b[0m\u001b[1;33m.\u001b[0m\u001b[1;33m\u001b[0m\u001b[0m\n\u001b[0;32m   1225\u001b[0m         \"\"\"\n\u001b[1;32m-> 1226\u001b[1;33m         \u001b[1;32mreturn\u001b[0m \u001b[0mlist\u001b[0m\u001b[1;33m(\u001b[0m\u001b[0mself\u001b[0m\u001b[1;33m.\u001b[0m\u001b[0msentences_from_text\u001b[0m\u001b[1;33m(\u001b[0m\u001b[0mtext\u001b[0m\u001b[1;33m,\u001b[0m \u001b[0mrealign_boundaries\u001b[0m\u001b[1;33m)\u001b[0m\u001b[1;33m)\u001b[0m\u001b[1;33m\u001b[0m\u001b[0m\n\u001b[0m\u001b[0;32m   1227\u001b[0m \u001b[1;33m\u001b[0m\u001b[0m\n\u001b[0;32m   1228\u001b[0m     \u001b[1;32mdef\u001b[0m \u001b[0mdebug_decisions\u001b[0m\u001b[1;33m(\u001b[0m\u001b[0mself\u001b[0m\u001b[1;33m,\u001b[0m \u001b[0mtext\u001b[0m\u001b[1;33m)\u001b[0m\u001b[1;33m:\u001b[0m\u001b[1;33m\u001b[0m\u001b[0m\n",
      "\u001b[1;32mC:\\Users\\Dell\\Anaconda3\\lib\\site-packages\\nltk\\tokenize\\punkt.py\u001b[0m in \u001b[0;36msentences_from_text\u001b[1;34m(self, text, realign_boundaries)\u001b[0m\n\u001b[0;32m   1272\u001b[0m         \u001b[0mfollows\u001b[0m \u001b[0mthe\u001b[0m \u001b[0mperiod\u001b[0m\u001b[1;33m.\u001b[0m\u001b[1;33m\u001b[0m\u001b[0m\n\u001b[0;32m   1273\u001b[0m         \"\"\"\n\u001b[1;32m-> 1274\u001b[1;33m         \u001b[1;32mreturn\u001b[0m \u001b[1;33m[\u001b[0m\u001b[0mtext\u001b[0m\u001b[1;33m[\u001b[0m\u001b[0ms\u001b[0m\u001b[1;33m:\u001b[0m\u001b[0me\u001b[0m\u001b[1;33m]\u001b[0m \u001b[1;32mfor\u001b[0m \u001b[0ms\u001b[0m\u001b[1;33m,\u001b[0m \u001b[0me\u001b[0m \u001b[1;32min\u001b[0m \u001b[0mself\u001b[0m\u001b[1;33m.\u001b[0m\u001b[0mspan_tokenize\u001b[0m\u001b[1;33m(\u001b[0m\u001b[0mtext\u001b[0m\u001b[1;33m,\u001b[0m \u001b[0mrealign_boundaries\u001b[0m\u001b[1;33m)\u001b[0m\u001b[1;33m]\u001b[0m\u001b[1;33m\u001b[0m\u001b[0m\n\u001b[0m\u001b[0;32m   1275\u001b[0m \u001b[1;33m\u001b[0m\u001b[0m\n\u001b[0;32m   1276\u001b[0m     \u001b[1;32mdef\u001b[0m \u001b[0m_slices_from_text\u001b[0m\u001b[1;33m(\u001b[0m\u001b[0mself\u001b[0m\u001b[1;33m,\u001b[0m \u001b[0mtext\u001b[0m\u001b[1;33m)\u001b[0m\u001b[1;33m:\u001b[0m\u001b[1;33m\u001b[0m\u001b[0m\n",
      "\u001b[1;32mC:\\Users\\Dell\\Anaconda3\\lib\\site-packages\\nltk\\tokenize\\punkt.py\u001b[0m in \u001b[0;36mspan_tokenize\u001b[1;34m(self, text, realign_boundaries)\u001b[0m\n\u001b[0;32m   1263\u001b[0m         \u001b[1;32mif\u001b[0m \u001b[0mrealign_boundaries\u001b[0m\u001b[1;33m:\u001b[0m\u001b[1;33m\u001b[0m\u001b[0m\n\u001b[0;32m   1264\u001b[0m             \u001b[0mslices\u001b[0m \u001b[1;33m=\u001b[0m \u001b[0mself\u001b[0m\u001b[1;33m.\u001b[0m\u001b[0m_realign_boundaries\u001b[0m\u001b[1;33m(\u001b[0m\u001b[0mtext\u001b[0m\u001b[1;33m,\u001b[0m \u001b[0mslices\u001b[0m\u001b[1;33m)\u001b[0m\u001b[1;33m\u001b[0m\u001b[0m\n\u001b[1;32m-> 1265\u001b[1;33m         \u001b[1;32mreturn\u001b[0m \u001b[1;33m[\u001b[0m\u001b[1;33m(\u001b[0m\u001b[0msl\u001b[0m\u001b[1;33m.\u001b[0m\u001b[0mstart\u001b[0m\u001b[1;33m,\u001b[0m \u001b[0msl\u001b[0m\u001b[1;33m.\u001b[0m\u001b[0mstop\u001b[0m\u001b[1;33m)\u001b[0m \u001b[1;32mfor\u001b[0m \u001b[0msl\u001b[0m \u001b[1;32min\u001b[0m \u001b[0mslices\u001b[0m\u001b[1;33m]\u001b[0m\u001b[1;33m\u001b[0m\u001b[0m\n\u001b[0m\u001b[0;32m   1266\u001b[0m \u001b[1;33m\u001b[0m\u001b[0m\n\u001b[0;32m   1267\u001b[0m     \u001b[1;32mdef\u001b[0m \u001b[0msentences_from_text\u001b[0m\u001b[1;33m(\u001b[0m\u001b[0mself\u001b[0m\u001b[1;33m,\u001b[0m \u001b[0mtext\u001b[0m\u001b[1;33m,\u001b[0m \u001b[0mrealign_boundaries\u001b[0m\u001b[1;33m=\u001b[0m\u001b[1;32mTrue\u001b[0m\u001b[1;33m)\u001b[0m\u001b[1;33m:\u001b[0m\u001b[1;33m\u001b[0m\u001b[0m\n",
      "\u001b[1;32mC:\\Users\\Dell\\Anaconda3\\lib\\site-packages\\nltk\\tokenize\\punkt.py\u001b[0m in \u001b[0;36m<listcomp>\u001b[1;34m(.0)\u001b[0m\n\u001b[0;32m   1263\u001b[0m         \u001b[1;32mif\u001b[0m \u001b[0mrealign_boundaries\u001b[0m\u001b[1;33m:\u001b[0m\u001b[1;33m\u001b[0m\u001b[0m\n\u001b[0;32m   1264\u001b[0m             \u001b[0mslices\u001b[0m \u001b[1;33m=\u001b[0m \u001b[0mself\u001b[0m\u001b[1;33m.\u001b[0m\u001b[0m_realign_boundaries\u001b[0m\u001b[1;33m(\u001b[0m\u001b[0mtext\u001b[0m\u001b[1;33m,\u001b[0m \u001b[0mslices\u001b[0m\u001b[1;33m)\u001b[0m\u001b[1;33m\u001b[0m\u001b[0m\n\u001b[1;32m-> 1265\u001b[1;33m         \u001b[1;32mreturn\u001b[0m \u001b[1;33m[\u001b[0m\u001b[1;33m(\u001b[0m\u001b[0msl\u001b[0m\u001b[1;33m.\u001b[0m\u001b[0mstart\u001b[0m\u001b[1;33m,\u001b[0m \u001b[0msl\u001b[0m\u001b[1;33m.\u001b[0m\u001b[0mstop\u001b[0m\u001b[1;33m)\u001b[0m \u001b[1;32mfor\u001b[0m \u001b[0msl\u001b[0m \u001b[1;32min\u001b[0m \u001b[0mslices\u001b[0m\u001b[1;33m]\u001b[0m\u001b[1;33m\u001b[0m\u001b[0m\n\u001b[0m\u001b[0;32m   1266\u001b[0m \u001b[1;33m\u001b[0m\u001b[0m\n\u001b[0;32m   1267\u001b[0m     \u001b[1;32mdef\u001b[0m \u001b[0msentences_from_text\u001b[0m\u001b[1;33m(\u001b[0m\u001b[0mself\u001b[0m\u001b[1;33m,\u001b[0m \u001b[0mtext\u001b[0m\u001b[1;33m,\u001b[0m \u001b[0mrealign_boundaries\u001b[0m\u001b[1;33m=\u001b[0m\u001b[1;32mTrue\u001b[0m\u001b[1;33m)\u001b[0m\u001b[1;33m:\u001b[0m\u001b[1;33m\u001b[0m\u001b[0m\n",
      "\u001b[1;32mC:\\Users\\Dell\\Anaconda3\\lib\\site-packages\\nltk\\tokenize\\punkt.py\u001b[0m in \u001b[0;36m_realign_boundaries\u001b[1;34m(self, text, slices)\u001b[0m\n\u001b[0;32m   1302\u001b[0m         \"\"\"\n\u001b[0;32m   1303\u001b[0m         \u001b[0mrealign\u001b[0m \u001b[1;33m=\u001b[0m \u001b[1;36m0\u001b[0m\u001b[1;33m\u001b[0m\u001b[0m\n\u001b[1;32m-> 1304\u001b[1;33m         \u001b[1;32mfor\u001b[0m \u001b[0msl1\u001b[0m\u001b[1;33m,\u001b[0m \u001b[0msl2\u001b[0m \u001b[1;32min\u001b[0m \u001b[0m_pair_iter\u001b[0m\u001b[1;33m(\u001b[0m\u001b[0mslices\u001b[0m\u001b[1;33m)\u001b[0m\u001b[1;33m:\u001b[0m\u001b[1;33m\u001b[0m\u001b[0m\n\u001b[0m\u001b[0;32m   1305\u001b[0m             \u001b[0msl1\u001b[0m \u001b[1;33m=\u001b[0m \u001b[0mslice\u001b[0m\u001b[1;33m(\u001b[0m\u001b[0msl1\u001b[0m\u001b[1;33m.\u001b[0m\u001b[0mstart\u001b[0m \u001b[1;33m+\u001b[0m \u001b[0mrealign\u001b[0m\u001b[1;33m,\u001b[0m \u001b[0msl1\u001b[0m\u001b[1;33m.\u001b[0m\u001b[0mstop\u001b[0m\u001b[1;33m)\u001b[0m\u001b[1;33m\u001b[0m\u001b[0m\n\u001b[0;32m   1306\u001b[0m             \u001b[1;32mif\u001b[0m \u001b[1;32mnot\u001b[0m \u001b[0msl2\u001b[0m\u001b[1;33m:\u001b[0m\u001b[1;33m\u001b[0m\u001b[0m\n",
      "\u001b[1;32mC:\\Users\\Dell\\Anaconda3\\lib\\site-packages\\nltk\\tokenize\\punkt.py\u001b[0m in \u001b[0;36m_pair_iter\u001b[1;34m(it)\u001b[0m\n\u001b[0;32m    308\u001b[0m     \"\"\"\n\u001b[0;32m    309\u001b[0m     \u001b[0mit\u001b[0m \u001b[1;33m=\u001b[0m \u001b[0miter\u001b[0m\u001b[1;33m(\u001b[0m\u001b[0mit\u001b[0m\u001b[1;33m)\u001b[0m\u001b[1;33m\u001b[0m\u001b[0m\n\u001b[1;32m--> 310\u001b[1;33m     \u001b[0mprev\u001b[0m \u001b[1;33m=\u001b[0m \u001b[0mnext\u001b[0m\u001b[1;33m(\u001b[0m\u001b[0mit\u001b[0m\u001b[1;33m)\u001b[0m\u001b[1;33m\u001b[0m\u001b[0m\n\u001b[0m\u001b[0;32m    311\u001b[0m     \u001b[1;32mfor\u001b[0m \u001b[0mel\u001b[0m \u001b[1;32min\u001b[0m \u001b[0mit\u001b[0m\u001b[1;33m:\u001b[0m\u001b[1;33m\u001b[0m\u001b[0m\n\u001b[0;32m    312\u001b[0m         \u001b[1;32myield\u001b[0m \u001b[1;33m(\u001b[0m\u001b[0mprev\u001b[0m\u001b[1;33m,\u001b[0m \u001b[0mel\u001b[0m\u001b[1;33m)\u001b[0m\u001b[1;33m\u001b[0m\u001b[0m\n",
      "\u001b[1;32mC:\\Users\\Dell\\Anaconda3\\lib\\site-packages\\nltk\\tokenize\\punkt.py\u001b[0m in \u001b[0;36m_slices_from_text\u001b[1;34m(self, text)\u001b[0m\n\u001b[0;32m   1276\u001b[0m     \u001b[1;32mdef\u001b[0m \u001b[0m_slices_from_text\u001b[0m\u001b[1;33m(\u001b[0m\u001b[0mself\u001b[0m\u001b[1;33m,\u001b[0m \u001b[0mtext\u001b[0m\u001b[1;33m)\u001b[0m\u001b[1;33m:\u001b[0m\u001b[1;33m\u001b[0m\u001b[0m\n\u001b[0;32m   1277\u001b[0m         \u001b[0mlast_break\u001b[0m \u001b[1;33m=\u001b[0m \u001b[1;36m0\u001b[0m\u001b[1;33m\u001b[0m\u001b[0m\n\u001b[1;32m-> 1278\u001b[1;33m         \u001b[1;32mfor\u001b[0m \u001b[0mmatch\u001b[0m \u001b[1;32min\u001b[0m \u001b[0mself\u001b[0m\u001b[1;33m.\u001b[0m\u001b[0m_lang_vars\u001b[0m\u001b[1;33m.\u001b[0m\u001b[0mperiod_context_re\u001b[0m\u001b[1;33m(\u001b[0m\u001b[1;33m)\u001b[0m\u001b[1;33m.\u001b[0m\u001b[0mfinditer\u001b[0m\u001b[1;33m(\u001b[0m\u001b[0mtext\u001b[0m\u001b[1;33m)\u001b[0m\u001b[1;33m:\u001b[0m\u001b[1;33m\u001b[0m\u001b[0m\n\u001b[0m\u001b[0;32m   1279\u001b[0m             \u001b[0mcontext\u001b[0m \u001b[1;33m=\u001b[0m \u001b[0mmatch\u001b[0m\u001b[1;33m.\u001b[0m\u001b[0mgroup\u001b[0m\u001b[1;33m(\u001b[0m\u001b[1;33m)\u001b[0m \u001b[1;33m+\u001b[0m \u001b[0mmatch\u001b[0m\u001b[1;33m.\u001b[0m\u001b[0mgroup\u001b[0m\u001b[1;33m(\u001b[0m\u001b[1;34m'after_tok'\u001b[0m\u001b[1;33m)\u001b[0m\u001b[1;33m\u001b[0m\u001b[0m\n\u001b[0;32m   1280\u001b[0m             \u001b[1;32mif\u001b[0m \u001b[0mself\u001b[0m\u001b[1;33m.\u001b[0m\u001b[0mtext_contains_sentbreak\u001b[0m\u001b[1;33m(\u001b[0m\u001b[0mcontext\u001b[0m\u001b[1;33m)\u001b[0m\u001b[1;33m:\u001b[0m\u001b[1;33m\u001b[0m\u001b[0m\n",
      "\u001b[1;31mTypeError\u001b[0m: cannot use a string pattern on a bytes-like object"
     ]
    }
   ],
   "source": [
    "filteredData=[]\n",
    "stopWords = set(stopwords.words('english'))\n",
    "\n",
    "for row in data:\n",
    "    eachWord = word_tokenize(row)\n",
    "    for i in eachWord:\n",
    "        if i not in stopWords or len(i)>1:\n",
    "            filteredData.append(i)"
   ]
  },
  {
   "cell_type": "code",
   "execution_count": 22,
   "metadata": {
    "collapsed": false
   },
   "outputs": [
    {
     "ename": "AttributeError",
     "evalue": "'str' object has no attribute 'decode'",
     "output_type": "error",
     "traceback": [
      "\u001b[1;31m---------------------------------------------------------------------------\u001b[0m",
      "\u001b[1;31mAttributeError\u001b[0m                            Traceback (most recent call last)",
      "\u001b[1;32m<ipython-input-22-5cb53ef5934c>\u001b[0m in \u001b[0;36m<module>\u001b[1;34m()\u001b[0m\n\u001b[1;32m----> 1\u001b[1;33m \u001b[0mdata\u001b[0m\u001b[1;33m[\u001b[0m\u001b[1;36m13\u001b[0m\u001b[1;33m]\u001b[0m\u001b[1;33m.\u001b[0m\u001b[0mdecode\u001b[0m\u001b[1;33m(\u001b[0m\u001b[1;34m'UTF-8'\u001b[0m\u001b[1;33m)\u001b[0m\u001b[1;33m\u001b[0m\u001b[0m\n\u001b[0m",
      "\u001b[1;31mAttributeError\u001b[0m: 'str' object has no attribute 'decode'"
     ]
    }
   ],
   "source": [
    "data[13].decode('UTF-8')"
   ]
  },
  {
   "cell_type": "code",
   "execution_count": null,
   "metadata": {
    "collapsed": true
   },
   "outputs": [],
   "source": []
  }
 ],
 "metadata": {
  "kernelspec": {
   "display_name": "Python 3",
   "language": "python",
   "name": "python3"
  },
  "language_info": {
   "codemirror_mode": {
    "name": "ipython",
    "version": 3
   },
   "file_extension": ".py",
   "mimetype": "text/x-python",
   "name": "python",
   "nbconvert_exporter": "python",
   "pygments_lexer": "ipython3",
   "version": "3.5.1"
  }
 },
 "nbformat": 4,
 "nbformat_minor": 0
}
